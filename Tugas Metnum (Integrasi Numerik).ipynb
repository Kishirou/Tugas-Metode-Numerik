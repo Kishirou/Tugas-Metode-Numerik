{
 "cells": [
  {
   "cell_type": "markdown",
   "metadata": {},
   "source": [
    "Library"
   ]
  },
  {
   "cell_type": "code",
   "execution_count": 14,
   "metadata": {},
   "outputs": [],
   "source": [
    "import numpy as np\n",
    "import time"
   ]
  },
  {
   "cell_type": "markdown",
   "metadata": {},
   "source": [
    "Fungsi f(x)"
   ]
  },
  {
   "cell_type": "code",
   "execution_count": 15,
   "metadata": {},
   "outputs": [],
   "source": [
    "def f(x):\n",
    "    return 4 / (1 + x**2)"
   ]
  },
  {
   "cell_type": "markdown",
   "metadata": {},
   "source": [
    "Metode Trapezoid"
   ]
  },
  {
   "cell_type": "code",
   "execution_count": 16,
   "metadata": {},
   "outputs": [],
   "source": [
    "def intergrasi_trapezoid(f, a, b, N):\n",
    "    h = (b - a) / N\n",
    "    integral = 0.5 * (f(a) + f(b))\n",
    "    for i in range(1, N):\n",
    "        integral += f(a + i * h)\n",
    "    integral *= h\n",
    "    return integral"
   ]
  },
  {
   "cell_type": "markdown",
   "metadata": {},
   "source": [
    "RMS Error"
   ]
  },
  {
   "cell_type": "code",
   "execution_count": 17,
   "metadata": {},
   "outputs": [],
   "source": [
    "def rms_error(calculated_value, reference_value):\n",
    "    return np.sqrt((calculated_value - reference_value) ** 2)"
   ]
  },
  {
   "cell_type": "markdown",
   "metadata": {},
   "source": [
    "Pi dan N"
   ]
  },
  {
   "cell_type": "code",
   "execution_count": 18,
   "metadata": {},
   "outputs": [],
   "source": [
    "pi_reference = 3.14159265358979323846\n",
    "N_values = [10, 100, 1000, 10000]"
   ]
  },
  {
   "cell_type": "markdown",
   "metadata": {},
   "source": [
    "Kalkulasi"
   ]
  },
  {
   "cell_type": "code",
   "execution_count": 19,
   "metadata": {},
   "outputs": [],
   "source": [
    "results = []\n",
    "\n",
    "for N in N_values:\n",
    "    start_time = time.time()\n",
    "    integral_value = intergrasi_trapezoid(f, 0, 1, N)\n",
    "    end_time = time.time()\n",
    "    \n",
    "    error = rms_error(integral_value, pi_reference)\n",
    "    execution_time = end_time - start_time\n",
    "    \n",
    "    results.append((N, integral_value, error, execution_time))"
   ]
  },
  {
   "cell_type": "markdown",
   "metadata": {},
   "source": [
    "Hasil"
   ]
  },
  {
   "cell_type": "code",
   "execution_count": 20,
   "metadata": {},
   "outputs": [
    {
     "name": "stdout",
     "output_type": "stream",
     "text": [
      "N = 10: Integral = 3.1399259889071587, RMS Error = 0.0016666646826344333, Waktu Eksekusi = 0.000000 seconds\n",
      "N = 100: Integral = 3.141575986923129, RMS Error = 1.6666666664111318e-05, Waktu Eksekusi = 0.000000 seconds\n",
      "N = 1000: Integral = 3.1415924869231246, RMS Error = 1.6666666846631983e-07, Waktu Eksekusi = 0.000000 seconds\n",
      "N = 10000: Integral = 3.14159265192314, RMS Error = 1.6666530378017796e-09, Waktu Eksekusi = 0.004985 seconds\n"
     ]
    }
   ],
   "source": [
    "for result in results:\n",
    "    N, integral_value, error, execution_time = result\n",
    "    print(f\"N = {N}: Integral = {integral_value}, RMS Error = {error}, Waktu Eksekusi = {execution_time:.6f} seconds\")"
   ]
  }
 ],
 "metadata": {
  "kernelspec": {
   "display_name": "Python 3",
   "language": "python",
   "name": "python3"
  },
  "language_info": {
   "codemirror_mode": {
    "name": "ipython",
    "version": 3
   },
   "file_extension": ".py",
   "mimetype": "text/x-python",
   "name": "python",
   "nbconvert_exporter": "python",
   "pygments_lexer": "ipython3",
   "version": "3.12.3"
  }
 },
 "nbformat": 4,
 "nbformat_minor": 2
}
